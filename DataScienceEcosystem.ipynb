{
 "cells": [
  {
   "cell_type": "code",
   "execution_count": 2,
   "id": "369c4355",
   "metadata": {},
   "outputs": [],
   "source": [
    "# Exercise 2 - # Data Science Tools and Ecosystem"
   ]
  },
  {
   "cell_type": "markdown",
   "id": "d062cad2",
   "metadata": {},
   "source": [
    "# Data Science Tools and Ecosystem"
   ]
  },
  {
   "cell_type": "code",
   "execution_count": null,
   "id": "b201adf8",
   "metadata": {},
   "outputs": [],
   "source": [
    "# Exercise 3 - Create a markdown"
   ]
  },
  {
   "cell_type": "markdown",
   "id": "67bbf1d5",
   "metadata": {},
   "source": [
    "In this notebook, Data Science Tools and Ecosystems are summarized"
   ]
  },
  {
   "cell_type": "code",
   "execution_count": null,
   "id": "9b56905d",
   "metadata": {},
   "outputs": [],
   "source": [
    "# Exercise 10 - Objectives: in bold font. Unordered list indicate 3 to 5 items covered. "
   ]
  },
  {
   "cell_type": "markdown",
   "id": "1a29aaa7",
   "metadata": {},
   "source": [
    "***Objectives***:"
   ]
  },
  {
   "cell_type": "markdown",
   "id": "63157ac4",
   "metadata": {},
   "source": [
    "* Discover patters in data\n",
    "* Exploring and visualizing data\n",
    "* Analyzing the data and/or applying machine learning to the data"
   ]
  },
  {
   "cell_type": "code",
   "execution_count": null,
   "id": "112646b8",
   "metadata": {},
   "outputs": [],
   "source": [
    "# Exercise 4 - Some of the popular languages that Data Scientists use are:\n",
    "1. C++\n",
    "2. Java-ML\n",
    "3. Python\n",
    "4. R"
   ]
  },
  {
   "cell_type": "markdown",
   "id": "1f07be37",
   "metadata": {},
   "source": [
    "Some of the popular languages that Data Scientists use are:\n",
    "1. C++\n",
    "2. Java-ML\n",
    "3. Python\n",
    "4. R"
   ]
  },
  {
   "cell_type": "code",
   "execution_count": null,
   "id": "c283a291",
   "metadata": {},
   "outputs": [],
   "source": [
    "# Exercise 5 - Some of the commently used libraries ysed by Data Scientists include:\n",
    "1.ggplt\n",
    "2.NumPy\n",
    "3.Pandas"
   ]
  },
  {
   "cell_type": "markdown",
   "id": "dc313080",
   "metadata": {},
   "source": [
    "Some of the commently used libraries ysed by Data Scientists include: \n",
    "1. ggplt2\n",
    "2. NumPy\n",
    "3. Pandas"
   ]
  },
  {
   "cell_type": "code",
   "execution_count": null,
   "id": "23946454",
   "metadata": {},
   "outputs": [],
   "source": [
    "# Exercise 6 - Create markdown table\n",
    "\n",
    "| Data Science Tools |\n",
    "| -------------|\n",
    "| 1.Python |\n",
    "| 2.Pandas |\n",
    "| 3.Jupyter Notebooks | "
   ]
  },
  {
   "cell_type": "markdown",
   "id": "8addf74d",
   "metadata": {},
   "source": [
    "| Data Science Tools|\n",
    "| ----------|\n",
    "| Python           |\n",
    "| Pandas           |\n",
    "| Jupyter Notebooks| "
   ]
  },
  {
   "cell_type": "code",
   "execution_count": null,
   "id": "04694ff3",
   "metadata": {},
   "outputs": [],
   "source": [
    "# Exercise 7 - ### Below are a few examples of evaluating arithmetic expressions in Python. "
   ]
  },
  {
   "cell_type": "markdown",
   "id": "eacdd70d",
   "metadata": {},
   "source": [
    "### Below are a few examples of evaluating arithmetic expression examples."
   ]
  },
  {
   "cell_type": "code",
   "execution_count": null,
   "id": "7ecace09",
   "metadata": {},
   "outputs": [],
   "source": [
    "# Exercise 8 - This a simple arithmetic expression to multiply then add intergers."
   ]
  },
  {
   "cell_type": "markdown",
   "id": "dd0f8880",
   "metadata": {},
   "source": [
    "This a simple arithmetic expression to multiply then add intergers."
   ]
  },
  {
   "cell_type": "code",
   "execution_count": 7,
   "id": "4630011d",
   "metadata": {},
   "outputs": [
    {
     "data": {
      "text/plain": [
       "17"
      ]
     },
     "execution_count": 7,
     "metadata": {},
     "output_type": "execute_result"
    }
   ],
   "source": [
    "(3*4)+5"
   ]
  },
  {
   "cell_type": "code",
   "execution_count": null,
   "id": "25ddc93b",
   "metadata": {},
   "outputs": [],
   "source": [
    "# Exercise 9 - This will covert 200 minutes to hours by diving by 60. "
   ]
  },
  {
   "cell_type": "markdown",
   "id": "a352bf18",
   "metadata": {},
   "source": [
    "This will covert 200 minutes to hours by diving by 60"
   ]
  },
  {
   "cell_type": "code",
   "execution_count": 11,
   "id": "353de077",
   "metadata": {},
   "outputs": [
    {
     "data": {
      "text/plain": [
       "3.3333333333333335"
      ]
     },
     "execution_count": 11,
     "metadata": {},
     "output_type": "execute_result"
    }
   ],
   "source": [
    "200/60"
   ]
  },
  {
   "cell_type": "code",
   "execution_count": null,
   "id": "ee98c020",
   "metadata": {},
   "outputs": [],
   "source": [
    "# Exercise 11 - Author in H2 style heading"
   ]
  },
  {
   "cell_type": "markdown",
   "id": "f00c03e4",
   "metadata": {},
   "source": [
    "## Author"
   ]
  },
  {
   "cell_type": "markdown",
   "id": "c98bd3e7",
   "metadata": {},
   "source": [
    "Kathy Rodriguez"
   ]
  },
  {
   "cell_type": "code",
   "execution_count": null,
   "id": "5df78582",
   "metadata": {},
   "outputs": [],
   "source": []
  },
  {
   "cell_type": "code",
   "execution_count": null,
   "id": "b404ef71",
   "metadata": {},
   "outputs": [],
   "source": []
  }
 ],
 "metadata": {
  "kernelspec": {
   "display_name": "Python 3 (ipykernel)",
   "language": "python",
   "name": "python3"
  },
  "language_info": {
   "codemirror_mode": {
    "name": "ipython",
    "version": 3
   },
   "file_extension": ".py",
   "mimetype": "text/x-python",
   "name": "python",
   "nbconvert_exporter": "python",
   "pygments_lexer": "ipython3",
   "version": "3.10.9"
  }
 },
 "nbformat": 4,
 "nbformat_minor": 5
}
